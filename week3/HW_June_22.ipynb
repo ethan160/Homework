{
 "cells": [
  {
   "cell_type": "markdown",
   "id": "8a0d9f1c",
   "metadata": {},
   "source": [
    "### Exercise #1 <br>\n",
    "<p>Filter out all of the empty strings from the list below</p>"
   ]
  },
  {
   "cell_type": "code",
   "execution_count": 8,
   "id": "3b24a6a1",
   "metadata": {},
   "outputs": [
    {
     "data": {
      "text/plain": [
       "['Argentina', 'San Diego', 'Boston', 'New York']"
      ]
     },
     "execution_count": 8,
     "metadata": {},
     "output_type": "execute_result"
    }
   ],
   "source": [
    "places1 = [' ', 'Argentina', '  ', 'San Diego', '', '   ', '', 'Boston', 'New York']\n",
    "\n",
    "remove = lambda x: x.strip()\n",
    "list(filter (remove, places1))"
   ]
  },
  {
   "cell_type": "markdown",
   "id": "c6059d9c",
   "metadata": {},
   "source": [
    "### Exercise #2 <br>\n",
    "<p>Write an anonymous function that sorts this list by the last name...<br><b>Hint: Use the \".sort()\" method and access the key\"</b></p>"
   ]
  },
  {
   "cell_type": "code",
   "execution_count": 8,
   "id": "029b2787",
   "metadata": {},
   "outputs": [],
   "source": [
    "# .sort(key=)\n",
    "authors = [\"Connor Milliken\", \"Victor aNisimov\", \"Andrew P. Garfield\",\n",
    "           \"David HassELHOFF\", \"Oprah wInfrey\"]"
   ]
  },
  {
   "cell_type": "code",
   "execution_count": 9,
   "id": "6103c001",
   "metadata": {},
   "outputs": [
    {
     "data": {
      "text/plain": [
       "['Andrew P. Garfield',\n",
       " 'David HassELHOFF',\n",
       " 'Connor Milliken',\n",
       " 'Victor aNisimov',\n",
       " 'Oprah wInfrey']"
      ]
     },
     "execution_count": 9,
     "metadata": {},
     "output_type": "execute_result"
    }
   ],
   "source": [
    "def sort_last(nameList):\n",
    "    nameList.sort(key=lambda x : x.split()[-1])\n",
    "    return nameList\n",
    "\n",
    "sort_last(authors)"
   ]
  },
  {
   "cell_type": "markdown",
   "id": "2b10cb1b",
   "metadata": {},
   "source": [
    "### Exercise #3 <br>\n",
    "<p>Convert the list below from Celsius to Farhenheit, using the map function with a lambda...</p>\n",
    "\n"
   ]
  },
  {
   "cell_type": "code",
   "execution_count": 36,
   "id": "0197ab1a",
   "metadata": {},
   "outputs": [],
   "source": [
    "places = [('Nassau', 32), ('Boston', 12), ('Los Angeles', 44), ('Miami', 29)]"
   ]
  },
  {
   "cell_type": "code",
   "execution_count": 37,
   "id": "9d67a4fe",
   "metadata": {},
   "outputs": [
    {
     "data": {
      "text/plain": [
       "[89.6, 53.6, 111.2, 84.2]"
      ]
     },
     "execution_count": 37,
     "metadata": {},
     "output_type": "execute_result"
    }
   ],
   "source": [
    "list(map(lambda x: ((9/5)*x[1] + 32), places))"
   ]
  },
  {
   "cell_type": "code",
   "execution_count": 28,
   "id": "30067529",
   "metadata": {},
   "outputs": [
    {
     "data": {
      "text/plain": [
       "[('Nassau', 89.6), ('Boston', 53.6), ('Los Angeles', 111.2), ('Miami', 84.2)]"
      ]
     },
     "execution_count": 28,
     "metadata": {},
     "output_type": "execute_result"
    }
   ],
   "source": [
    "list(map(lambda x: (x[0], (9/5)*x[1] + 32), places))\n",
    "  "
   ]
  },
  {
   "cell_type": "markdown",
   "id": "c9a4aeaf",
   "metadata": {},
   "source": [
    "### Exercise #4 <br>\n",
    "<p>Write a recursive function to perform the fibonacci sequence up to the number passed in.</p>"
   ]
  },
  {
   "cell_type": "code",
   "execution_count": 6,
   "id": "55f00987",
   "metadata": {},
   "outputs": [
    {
     "data": {
      "text/plain": [
       "55"
      ]
     },
     "execution_count": 6,
     "metadata": {},
     "output_type": "execute_result"
    }
   ],
   "source": [
    "def fibonacci_1(f):\n",
    "    if f == 0:\n",
    "        return 0\n",
    "    if f == 1 or f == 2:\n",
    "        return 1\n",
    "    else:\n",
    "        return fibonacci_1(f-1) + fibonacci_1(f-2)\n",
    "\n",
    "fibonacci_1(10)\n",
    "        "
   ]
  }
 ],
 "metadata": {
  "kernelspec": {
   "display_name": "Python 3",
   "language": "python",
   "name": "python3"
  },
  "language_info": {
   "codemirror_mode": {
    "name": "ipython",
    "version": 3
   },
   "file_extension": ".py",
   "mimetype": "text/x-python",
   "name": "python",
   "nbconvert_exporter": "python",
   "pygments_lexer": "ipython3",
   "version": "3.8.8"
  }
 },
 "nbformat": 4,
 "nbformat_minor": 5
}
