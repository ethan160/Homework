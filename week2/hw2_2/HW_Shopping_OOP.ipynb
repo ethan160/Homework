{
 "cells": [
  {
   "cell_type": "code",
   "execution_count": null,
   "id": "b87d18ba",
   "metadata": {},
   "outputs": [
    {
     "name": "stdout",
     "output_type": "stream",
     "text": [
      "[banana]\n",
      "Item Name: apple\n",
      "Item Price: 4.00\n",
      "[banana, apple]\n",
      "Item Name: leaf\n",
      "Item Price: 5.00\n",
      "[banana, apple, leaf]\n"
     ]
    }
   ],
   "source": [
    "# Turn the shopping cart program into an object-oriented program\n",
    "class Shop:\n",
    "    def __init__(self, name, price):\n",
    "        self.name = name\n",
    "        self.price = price\n",
    "    \n",
    "    # __repr__ is a special method used to represent a class's objects as a string.\n",
    "    def __repr__(self):\n",
    "        return self.name\n",
    "    \n",
    "class Cart:\n",
    "    cart_list = []\n",
    "    \n",
    "    def add_item(self, item):\n",
    "        if item not in self.cart_list:\n",
    "            self.cart_list.append(item)\n",
    "    \n",
    "    def remove_item(self, item):\n",
    "        if item not in self.cart_1ist:\n",
    "            self.cart_list.remove(item)\n",
    "    \n",
    "    def view_cart(self):\n",
    "        print(f'{self.cart_list}')\n",
    "              \n",
    "\n",
    "fruit = Shop(\"banana\", 3.00)\n",
    "res = Cart()\n",
    "res.add_item(fruit)\n",
    "res.view_cart()\n",
    "\n",
    "active = False\n",
    "              \n",
    "while not active:\n",
    "    item_name = input(\"Item Name: \")\n",
    "    item_price = input(\"Item Price: \")\n",
    "    \n",
    "    new_item = Shop(item_name, item_price)\n",
    "    res.add_item(new_item)\n",
    "    res.view_cart()\n",
    "    "
   ]
  },
  {
   "cell_type": "code",
   "execution_count": null,
   "id": "8a879d67",
   "metadata": {},
   "outputs": [],
   "source": []
  }
 ],
 "metadata": {
  "kernelspec": {
   "display_name": "Python 3",
   "language": "python",
   "name": "python3"
  },
  "language_info": {
   "codemirror_mode": {
    "name": "ipython",
    "version": 3
   },
   "file_extension": ".py",
   "mimetype": "text/x-python",
   "name": "python",
   "nbconvert_exporter": "python",
   "pygments_lexer": "ipython3",
   "version": "3.8.8"
  }
 },
 "nbformat": 4,
 "nbformat_minor": 5
}
