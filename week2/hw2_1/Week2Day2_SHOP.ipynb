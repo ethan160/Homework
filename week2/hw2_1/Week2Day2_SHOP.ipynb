{
 "cells": [
  {
   "cell_type": "markdown",
   "id": "f6fc1084",
   "metadata": {},
   "source": [
    "### 1) Build a Shopping Cart <br>\n",
    "<p><b> Should have the following capabilities:</b><br><br>\n",
    "1) Takes in input <br>\n",
    "2) Stores user input into a list <br>\n",
    "3) User can add or delete items <br>\n",
    "4) User can see current shopping list <br>\n",
    "5) Loops until user 'quits' <br>\n",
    "6) Upon quiting the program, print out all items in the user's list <br>\n",
    "</p>"
   ]
  },
  {
   "cell_type": "code",
   "execution_count": null,
   "id": "a3f1392e",
   "metadata": {},
   "outputs": [],
   "source": [
    "from IPython.display import clear_output\n",
    "\n",
    "def show_instructions():\n",
    "    print('''\n",
    "    please select the operation you would like to complete:\n",
    "        add     ---> addition items to the shopping cart\n",
    "        delete  ---> remove items from the shopping cart\n",
    "        view    ---> listing out all the current items in the shopping cart\n",
    "        quit    ---> quit the game\n",
    "    Please only select above actions\n",
    "    ''')\n",
    "    \n",
    "cart = {}\n",
    "\n",
    "def shop():\n",
    "    # use a dict to represent the final results\n",
    "    active = True\n",
    "    input(\"Welcome to the Shopping game, please any key to start the game!\")\n",
    "    \n",
    "    while active:\n",
    "    \n",
    "        # clear the output\n",
    "        clear_output()\n",
    "        \n",
    "        show_instructions\n",
    "\n",
    "        # all the users' actions\n",
    "        action = input(\"what you want to do? (add/delete/view/quit)\").lower()\n",
    "\n",
    "        # add fun functionality\n",
    "        if action == 'add':\n",
    "            item = input(\"Please enter the item you want to buy: \")\n",
    "            price = input(\"Price: \")\n",
    "            cart[item] = price\n",
    "\n",
    "        # delete item functionality \n",
    "        elif action == 'delete':\n",
    "            delte_item = input(\"Please enter the item you want to remove from current shopping cart: \")\n",
    "            if delte_item in cart.keys():\n",
    "                del cart[delte_item]\n",
    "        \n",
    "        # show functionality\n",
    "        elif action == 'view':\n",
    "            for k, v in cart.items():\n",
    "                print(f\"Your current items in shopping carts are: {k} : {v}\")\n",
    "                input(\"Please press any key to continously show all the items info\")\n",
    "        \n",
    "        # quit functionality\n",
    "        elif action == 'quit':\n",
    "            active = False\n",
    "            print(\"Game end, see you next time\")\n",
    "    \n",
    "# def show_items():\n",
    "#     for k, v in cart.items():\n",
    "#         print(f\"Your current items in shopping carts are: {k} : {v}\")\n",
    "#         print(k, v)\n",
    "    \n",
    "shop()  \n"
   ]
  },
  {
   "cell_type": "markdown",
   "id": "4abb0611",
   "metadata": {},
   "source": [
    "### 2) Create a Module in Visual Studio Code and Import It <br>\n",
    "<p><b>Module should have the following capabilities:</b><br><br>\n",
    "1) Has a function to calculate the square footage of a room <br>\n",
    "2) Has a function to calculate the circumference of a circle <br><br>\n",
    "<b>Program in Jupyter Notebook should take in user input and use imported functions to calculate a circle's circumference or a houses square footage</b>\n",
    "</p>"
   ]
  },
  {
   "cell_type": "code",
   "execution_count": null,
   "id": "53fccfd5",
   "metadata": {},
   "outputs": [],
   "source": []
  }
 ],
 "metadata": {
  "kernelspec": {
   "display_name": "Python 3",
   "language": "python",
   "name": "python3"
  }
 },
 "nbformat": 4,
 "nbformat_minor": 5
}
