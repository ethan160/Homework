{
 "cells": [
  {
   "cell_type": "markdown",
   "id": "f6fc1084",
   "metadata": {},
   "source": [
    "### 1) Build a Shopping Cart <br>\n",
    "<p><b> Should have the following capabilities:</b><br><br>\n",
    "1) Takes in input <br>\n",
    "2) Stores user input into a list <br>\n",
    "3) User can add or delete items <br>\n",
    "4) User can see current shopping list <br>\n",
    "5) Loops until user 'quits' <br>\n",
    "6) Upon quiting the program, print out all items in the user's list <br>\n",
    "</p>"
   ]
  },
  {
   "cell_type": "code",
   "execution_count": null,
   "id": "217e5db3",
   "metadata": {},
   "outputs": [],
   "source": [
    "def shop():\n",
    "    # takes input \n",
    "    shop_item = input(\"Please enter the item you want to buy\")"
   ]
  },
  {
   "cell_type": "code",
   "execution_count": null,
   "id": "c77d1123",
   "metadata": {},
   "outputs": [],
   "source": []
  },
  {
   "cell_type": "code",
   "execution_count": null,
   "id": "f5b85260",
   "metadata": {},
   "outputs": [],
   "source": []
  },
  {
   "cell_type": "code",
   "execution_count": null,
   "id": "b152a585",
   "metadata": {},
   "outputs": [],
   "source": []
  },
  {
   "cell_type": "code",
   "execution_count": null,
   "id": "c25acc7a",
   "metadata": {},
   "outputs": [],
   "source": []
  },
  {
   "cell_type": "code",
   "execution_count": null,
   "id": "63da9047",
   "metadata": {},
   "outputs": [],
   "source": []
  },
  {
   "cell_type": "code",
   "execution_count": null,
   "id": "c7c0d3aa",
   "metadata": {},
   "outputs": [],
   "source": []
  },
  {
   "cell_type": "code",
   "execution_count": null,
   "id": "0b778b37",
   "metadata": {},
   "outputs": [],
   "source": []
  },
  {
   "cell_type": "code",
   "execution_count": null,
   "id": "6520e552",
   "metadata": {},
   "outputs": [],
   "source": []
  },
  {
   "cell_type": "code",
   "execution_count": null,
   "id": "6c7330f7",
   "metadata": {},
   "outputs": [],
   "source": []
  },
  {
   "cell_type": "code",
   "execution_count": null,
   "id": "b7a9c093",
   "metadata": {},
   "outputs": [],
   "source": []
  },
  {
   "cell_type": "code",
   "execution_count": null,
   "id": "ae5c4bf9",
   "metadata": {},
   "outputs": [],
   "source": []
  },
  {
   "cell_type": "code",
   "execution_count": null,
   "id": "37d5df56",
   "metadata": {},
   "outputs": [],
   "source": []
  },
  {
   "cell_type": "code",
   "execution_count": 10,
   "id": "15ccda68",
   "metadata": {},
   "outputs": [
    {
     "name": "stdout",
     "output_type": "stream",
     "text": [
      "Are you sure you want to quit? (y/n)y\n"
     ]
    }
   ],
   "source": [
    "from IPython.display import clear_output\n",
    "\n",
    "# creating a list to store the res\n",
    "shop_list = []\n",
    "\n",
    "current = True\n",
    "\n",
    "while current:\n",
    "    user_action = input(\"what you want to do? (add/delete/show/quit)\").lower()\n",
    "    \n",
    "    # clear the output\n",
    "    clear_output()\n",
    "    \n",
    "    # differnet actions\n",
    "    if user_action == \"add\":\n",
    "        add_item = input(\"please enter the item that you want to buy: \").lower()\n",
    "        shop_list.append(add_item)\n",
    "        \n",
    "    elif user_action == \"delete\":\n",
    "        del_item = input(\"please delete the item that you want to remove: \").lower()\n",
    "        # check if the item is in the list\n",
    "        if del_item in shop_list:\n",
    "            shop_list.remove(del_item)\n",
    "            \n",
    "    elif user_action == \"show\":\n",
    "        print(\"the current shop list that in your shopping cart are: \")\n",
    "        print(shop_list)\n",
    "        \n",
    "    elif user_action == \"quit\":\n",
    "        check_again = input(\"Are you sure you want to quit? (y/n)\").lower()\n",
    "        if check_again == \"y\":\n",
    "            current = False\n",
    "    else:\n",
    "        print(\"that's not a valid options and please send above 4 actions\")\n"
   ]
  },
  {
   "cell_type": "markdown",
   "id": "4abb0611",
   "metadata": {},
   "source": [
    "### 2) Create a Module in Visual Studio Code and Import It <br>\n",
    "<p><b>Module should have the following capabilities:</b><br><br>\n",
    "1) Has a function to calculate the square footage of a room <br>\n",
    "2) Has a function to calculate the circumference of a circle <br><br>\n",
    "<b>Program in Jupyter Notebook should take in user input and use imported functions to calculate a circle's circumference or a houses square footage</b>\n",
    "</p>"
   ]
  },
  {
   "cell_type": "code",
   "execution_count": null,
   "id": "53fccfd5",
   "metadata": {},
   "outputs": [],
   "source": []
  }
 ],
 "metadata": {
  "kernelspec": {
   "display_name": "Python 3",
   "language": "python",
   "name": "python3"
  },
  "language_info": {
   "codemirror_mode": {
    "name": "ipython",
    "version": 3
   },
   "file_extension": ".py",
   "mimetype": "text/x-python",
   "name": "python",
   "nbconvert_exporter": "python",
   "pygments_lexer": "ipython3",
   "version": "3.8.8"
  }
 },
 "nbformat": 4,
 "nbformat_minor": 5
}
