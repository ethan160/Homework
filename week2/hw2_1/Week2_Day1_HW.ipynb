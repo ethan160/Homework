{
 "cells": [
  {
   "cell_type": "markdown",
   "id": "a7a8be5e",
   "metadata": {},
   "source": [
    "## Exercise #1 <br>\n",
    "<p>Create a calculator using functions that asks for two numbers and performs a calculation that the user inputs... Loop until the user chooses not to perform any more calculations.<br><b><i>Hint: Take yesterday's code from the extra exercise...</i></b></p>"
   ]
  },
  {
   "cell_type": "code",
   "execution_count": 7,
   "id": "1f8a73ab",
   "metadata": {},
   "outputs": [
    {
     "name": "stdout",
     "output_type": "stream",
     "text": [
      "please enter your first random number: 3\n",
      "please enter your second random number: 4\n",
      "3 + 4 = \n",
      "7\n"
     ]
    }
   ],
   "source": [
    "num1 = int(input(\"please enter your first random number: \"))\n",
    "num2 = int(input(\"please enter your second random number: \"))\n",
    "\n",
    "print(f\"{num1} + {num2} = \")\n",
    "print(num1+num2)\n",
    "      \n",
    "    "
   ]
  },
  {
   "cell_type": "code",
   "execution_count": 8,
   "id": "161bdafc",
   "metadata": {},
   "outputs": [
    {
     "name": "stdout",
     "output_type": "stream",
     "text": [
      "please enter your first random number: 3\n",
      "please enter your second random number: 4\n",
      "3 + 4 = \n",
      "7\n",
      "3 - 4 = \n",
      "-1\n",
      "3 * 4 = \n",
      "12\n",
      "3 / 4 = \n",
      "0.75\n"
     ]
    }
   ],
   "source": [
    "num1 = int(input(\"please enter your first random number: \"))\n",
    "num2 = int(input(\"please enter your second random number: \"))\n",
    "\n",
    "# Addition\n",
    "print(f\"{num1} + {num2} = \")\n",
    "print(num1+num2)\n",
    "\n",
    "# Subtraction\n",
    "print(f\"{num1} - {num2} = \")\n",
    "print(num1-num2)\n",
    "\n",
    "# Mutiplication\n",
    "print(f\"{num1} * {num2} = \")\n",
    "print(num1*num2)\n",
    "\n",
    "# Division\n",
    "print(f\"{num1} / {num2} = \")\n",
    "print(num1/num2)"
   ]
  },
  {
   "cell_type": "code",
   "execution_count": null,
   "id": "e401e7c7",
   "metadata": {},
   "outputs": [],
   "source": [
    "'''\n",
    "Please type in the math operation you would like to complete:\n",
    "\n",
    "+ for addition\n",
    "- for subtraction\n",
    "* for multiplication\n",
    "/ for division\n",
    "'''"
   ]
  },
  {
   "cell_type": "code",
   "execution_count": 9,
   "id": "8c006089",
   "metadata": {},
   "outputs": [
    {
     "name": "stdout",
     "output_type": "stream",
     "text": [
      "\n",
      "    Please type in the math operation you would like to complete:\n",
      "    + for addition\n",
      "    - for subtraction\n",
      "    * for multiplication\n",
      "    / for division\n",
      "    +\n",
      "please enter your first random number: 1\n",
      "please enter your second random number: 4\n",
      "1 + 4 = \n",
      "5\n",
      "\n",
      "    Do you want to calculate again?\n",
      "    Please type Y for yes or N for No.\n",
      "    y\n",
      "\n",
      "    Please type in the math operation you would like to complete:\n",
      "    + for addition\n",
      "    - for subtraction\n",
      "    * for multiplication\n",
      "    / for division\n",
      "    /\n",
      "please enter your first random number: 2\n",
      "please enter your second random number: 3\n",
      "2 / 3 = \n",
      "0.6666666666666666\n",
      "\n",
      "    Do you want to calculate again?\n",
      "    Please type Y for yes or N for No.\n",
      "    n\n",
      "See you next time\n"
     ]
    }
   ],
   "source": [
    "# Completed code \n",
    "def calculation():\n",
    "\n",
    "    opertation = input('''\n",
    "    Please type in the math operation you would like to complete:\n",
    "    + for addition\n",
    "    - for subtraction\n",
    "    * for multiplication\n",
    "    / for division\n",
    "    ''')\n",
    "\n",
    "    num1 = int(input(\"please enter your first random number: \"))\n",
    "    num2 = int(input(\"please enter your second random number: \"))\n",
    "\n",
    "    # Addition\n",
    "    if opertation == '+':\n",
    "        print(f\"{num1} + {num2} = \")\n",
    "        print(num1+num2)\n",
    "\n",
    "    # Subtraction\n",
    "    elif opertation == '-':\n",
    "        print(f\"{num1} - {num2} = \")\n",
    "        print(num1-num2)\n",
    "\n",
    "    # Mutiplication\n",
    "    elif opertation == '*':\n",
    "        print(f\"{num1} * {num2} = \")\n",
    "        print(num1*num2)\n",
    "\n",
    "    # Division\n",
    "    elif opertation == '/':\n",
    "        print(f\"{num1} / {num2} = \")\n",
    "        print(num1/num2)\n",
    "\n",
    "    else:\n",
    "        print(\"You have not type a valid operation, please run the program again\")\n",
    "    \n",
    "    # Add again() function to calculation function\n",
    "    again()\n",
    "\n",
    "def again():\n",
    "    # take input from user\n",
    "    cal_again = input('''\n",
    "    Do you want to calculate again?\n",
    "    Please type Y for yes or N for No.\n",
    "    '''\n",
    "    )\n",
    "    \n",
    "    # If users type Y, then rerun the calculation function\n",
    "    if cal_again.upper() == 'Y':\n",
    "        calculation()\n",
    "    # If users type N\n",
    "    elif cal_again.upper() == 'N':\n",
    "        print(\"See you next time\")\n",
    "    # If user types another key, then rerun the function again\n",
    "    else:\n",
    "        again()\n",
    "\n",
    "calculation()\n"
   ]
  },
  {
   "cell_type": "code",
   "execution_count": null,
   "id": "b277bf91",
   "metadata": {},
   "outputs": [],
   "source": []
  },
  {
   "cell_type": "markdown",
   "id": "8dabd33f",
   "metadata": {},
   "source": [
    "## Exercise 2 <br>\n",
    "<p>Create a pyramid of X's for n number of levels.</p>"
   ]
  },
  {
   "cell_type": "code",
   "execution_count": 31,
   "id": "c6593543",
   "metadata": {},
   "outputs": [
    {
     "name": "stdout",
     "output_type": "stream",
     "text": [
      "     x\n",
      "    xxx\n",
      "   xxxxx\n",
      "  xxxxxxx\n",
      " xxxxxxxxx\n",
      "xxxxxxxxxxx\n"
     ]
    }
   ],
   "source": [
    "def pyramid(n):\n",
    "    pysize = 1\n",
    "    space = n - 1\n",
    "    for i in range(n):\n",
    "        print(\" \" * space + \"x\" * pysize)\n",
    "        pysize += 2\n",
    "        space -= 1\n",
    "        \n",
    "pyramid(6)"
   ]
  },
  {
   "cell_type": "code",
   "execution_count": 32,
   "id": "1338982e",
   "metadata": {},
   "outputs": [
    {
     "name": "stdout",
     "output_type": "stream",
     "text": [
      "Please enter the number of rows10\n",
      "          \n",
      "         x \n",
      "        x x \n",
      "       x x x \n",
      "      x x x x \n",
      "     x x x x x \n",
      "    x x x x x x \n",
      "   x x x x x x x \n",
      "  x x x x x x x x \n",
      " x x x x x x x x x \n",
      "x x x x x x x x x x \n"
     ]
    }
   ],
   "source": [
    "def pyramid():\n",
    "    inp = int(input(\"Please enter the number of rows\"))\n",
    "    for i in range(0, inp + 1):\n",
    "        print(' ' * inp, end = \"\")\n",
    "        print('x ' * i)\n",
    "        inp-=1\n",
    "        \n",
    "pyramid()"
   ]
  },
  {
   "cell_type": "code",
   "execution_count": null,
   "id": "11254b6b",
   "metadata": {},
   "outputs": [],
   "source": []
  }
 ],
 "metadata": {
  "kernelspec": {
   "display_name": "Python 3",
   "language": "python",
   "name": "python3"
  },
  "language_info": {
   "codemirror_mode": {
    "name": "ipython",
    "version": 3
   },
   "file_extension": ".py",
   "mimetype": "text/x-python",
   "name": "python",
   "nbconvert_exporter": "python",
   "pygments_lexer": "ipython3",
   "version": "3.8.8"
  }
 },
 "nbformat": 4,
 "nbformat_minor": 5
}
